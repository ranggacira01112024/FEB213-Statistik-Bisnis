{
  "nbformat": 4,
  "nbformat_minor": 0,
  "metadata": {
    "colab": {
      "provenance": [],
      "authorship_tag": "ABX9TyMhuM0nGbOTB4WJO7ig6YPj",
      "include_colab_link": true
    },
    "kernelspec": {
      "name": "python3",
      "display_name": "Python 3"
    },
    "language_info": {
      "name": "python"
    }
  },
  "cells": [
    {
      "cell_type": "markdown",
      "metadata": {
        "id": "view-in-github",
        "colab_type": "text"
      },
      "source": [
        "<a href=\"https://colab.research.google.com/github/ranggacira01112024/FEB213-Statistik-Bisnis/blob/main/Uji_Kolmogorov_Smirnov.ipynb\" target=\"_parent\"><img src=\"https://colab.research.google.com/assets/colab-badge.svg\" alt=\"Open In Colab\"/></a>"
      ]
    },
    {
      "cell_type": "code",
      "execution_count": null,
      "metadata": {
        "id": "X12MxcKBxkq-",
        "outputId": "e9e62821-f444-4be6-8e19-e938b4cb42c2",
        "colab": {
          "base_uri": "https://localhost:8080/"
        }
      },
      "outputs": [
        {
          "output_type": "stream",
          "name": "stdout",
          "text": [
            "Mean: 1536.00\n",
            "Std.Dev: 276.48\n",
            "\n",
            "Tabel Hasil Perhitungan:\n",
            "    Xi (Urut)        Zi     F(Zi)     S(Zi)  |F(Zi) - S(Zi)|\n",
            "0        1112 -1.533541  0.062571  0.066667         0.004095\n",
            "1        1224 -1.128454  0.129564  0.133333         0.003769\n",
            "2        1253 -1.023566  0.153020  0.200000         0.046980\n",
            "3        1258 -1.005482  0.157332  0.266667         0.109334\n",
            "4        1274 -0.947612  0.171663  0.333333         0.161670\n",
            "5        1362 -0.629330  0.264566  0.400000         0.135434\n",
            "6        1435 -0.365301  0.357443  0.466667         0.109223\n",
            "7        1470 -0.238712  0.405665  0.533333         0.127669\n",
            "8        1580  0.159141  0.563221  0.600000         0.036779\n",
            "9        1785  0.900593  0.816098  0.666667         0.149431\n",
            "10       1790  0.918678  0.820868  0.733333         0.087535\n",
            "11       1799  0.951229  0.829256  0.800000         0.029256\n",
            "12       1842  1.106753  0.865800  0.866667         0.000867\n",
            "13       1921  1.392484  0.918112  0.933333         0.015221\n",
            "14       1935  1.443120  0.925507  1.000000         0.074493\n",
            "\n",
            "D max: 0.1617\n",
            "D tabel (n=15, α=0.05): 0.338\n"
          ]
        }
      ],
      "source": [
        "import pandas as pd\n",
        "import numpy as np\n",
        "from scipy.stats import norm\n",
        "\n",
        "# Data Xi\n",
        "xi_data = [1112, 1224, 1253, 1258, 1274, 1362, 1435, 1470, 1580, 1785, 1790, 1799, 1842, 1921, 1935]\n",
        "\n",
        "# Menghitung Mean dan Standard Deviation\n",
        "mean = np.mean(xi_data)\n",
        "std_dev = np.std(xi_data)\n",
        "\n",
        "# Menyusun DataFrame untuk Xi\n",
        "df = pd.DataFrame({\n",
        "    'Xi': xi_data\n",
        "})\n",
        "\n",
        "# Mengurutkan Xi\n",
        "df['Xi (Urut)'] = np.sort(df['Xi'])\n",
        "\n",
        "# Menghitung Zi = (Xi - Mean) / Std.Dev\n",
        "df['Zi'] = (df['Xi (Urut)'] - mean) / std_dev\n",
        "\n",
        "# Menghitung F(Zi) = NORM.DIST(Zi, 0, 1, TRUE)\n",
        "df['F(Zi)'] = norm.cdf(df['Zi'])\n",
        "\n",
        "# Menghitung S(Zi) = No/n\n",
        "df['S(Zi)'] = (df.index + 1) / len(df)\n",
        "\n",
        "# Menghitung |F(Zi) - S(Zi)|\n",
        "df['|F(Zi) - S(Zi)|'] = np.abs(df['F(Zi)'] - df['S(Zi)'])\n",
        "\n",
        "# Menampilkan Hasil\n",
        "print(f\"Mean: {mean:.2f}\")\n",
        "print(f\"Std.Dev: {std_dev:.2f}\")\n",
        "print(\"\\nTabel Hasil Perhitungan:\")\n",
        "print(df[['Xi (Urut)', 'Zi', 'F(Zi)', 'S(Zi)', '|F(Zi) - S(Zi)|']])\n",
        "\n",
        "# Menampilkan nilai D max dan D tabel\n",
        "d_max = df['|F(Zi) - S(Zi)|'].max()\n",
        "d_tabel = 0.338  # Nilai D tabel untuk n=15 dan α=0.05\n",
        "print(f\"\\nD max: {d_max:.4f}\")\n",
        "print(f\"D tabel (n=15, α=0.05): {d_tabel:.3f}\")"
      ]
    }
  ]
}